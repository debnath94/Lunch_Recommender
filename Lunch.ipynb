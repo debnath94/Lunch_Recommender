{
 "cells": [
  {
   "cell_type": "code",
   "execution_count": 1,
   "id": "36d9733d",
   "metadata": {},
   "outputs": [],
   "source": [
    "import numpy as np # linear algebra\n",
    "import pandas as pd"
   ]
  },
  {
   "cell_type": "code",
   "execution_count": 2,
   "id": "3a2d9f5b",
   "metadata": {},
   "outputs": [],
   "source": [
    "df = pd.read_csv(\"newfood.csv\")"
   ]
  },
  {
   "cell_type": "code",
   "execution_count": 3,
   "id": "daf0bdf3",
   "metadata": {},
   "outputs": [
    {
     "data": {
      "text/html": [
       "<div>\n",
       "<style scoped>\n",
       "    .dataframe tbody tr th:only-of-type {\n",
       "        vertical-align: middle;\n",
       "    }\n",
       "\n",
       "    .dataframe tbody tr th {\n",
       "        vertical-align: top;\n",
       "    }\n",
       "\n",
       "    .dataframe thead th {\n",
       "        text-align: right;\n",
       "    }\n",
       "</style>\n",
       "<table border=\"1\" class=\"dataframe\">\n",
       "  <thead>\n",
       "    <tr style=\"text-align: right;\">\n",
       "      <th></th>\n",
       "      <th>UserId</th>\n",
       "      <th>Name</th>\n",
       "      <th>Email_id</th>\n",
       "      <th>State</th>\n",
       "      <th>City</th>\n",
       "      <th>Frequency_of_Visit</th>\n",
       "      <th>Age</th>\n",
       "      <th>Preferred_Meal</th>\n",
       "      <th>Preferred_Category_Veg_Non_Veg</th>\n",
       "      <th>Breakfast</th>\n",
       "      <th>Breakfast_rating</th>\n",
       "      <th>Lunch</th>\n",
       "      <th>Lunch_rating</th>\n",
       "      <th>Dinner</th>\n",
       "      <th>Dinner_rating</th>\n",
       "    </tr>\n",
       "  </thead>\n",
       "  <tbody>\n",
       "    <tr>\n",
       "      <th>0</th>\n",
       "      <td>0</td>\n",
       "      <td>Raj Sunil</td>\n",
       "      <td>rajsunil.kandregula@gmail.com</td>\n",
       "      <td>Telangana</td>\n",
       "      <td>Hyderabad</td>\n",
       "      <td>Monthly</td>\n",
       "      <td>25-30</td>\n",
       "      <td>Breakfast, Lunch</td>\n",
       "      <td>Non-Vegeterian</td>\n",
       "      <td>Mysore Bonda, Poha, Hotdog Sandwich</td>\n",
       "      <td>4</td>\n",
       "      <td>Paneer Amritsari Tikka, Butter Garlic Prawns, ...</td>\n",
       "      <td>4</td>\n",
       "      <td>Baby Corn, Chilli Mushroom, Paneer 65, Mutton ...</td>\n",
       "      <td>5</td>\n",
       "    </tr>\n",
       "    <tr>\n",
       "      <th>1</th>\n",
       "      <td>1</td>\n",
       "      <td>Pragya</td>\n",
       "      <td>03.pragya.mishra@gmail.com</td>\n",
       "      <td>UP</td>\n",
       "      <td>Noida</td>\n",
       "      <td>Fortnight</td>\n",
       "      <td>18-25</td>\n",
       "      <td>Breakfast, Lunch</td>\n",
       "      <td>Non-Vegeterian</td>\n",
       "      <td>Vada, Dosa, Chole Bhature, Paneer Paratha, Waf...</td>\n",
       "      <td>4</td>\n",
       "      <td>Hara Bara Kabab, Chicken Roast, Veg Manchurian...</td>\n",
       "      <td>4</td>\n",
       "      <td>Baby Corn, Chilli Mushroom, Paneer 65, Mutton ...</td>\n",
       "      <td>5</td>\n",
       "    </tr>\n",
       "    <tr>\n",
       "      <th>2</th>\n",
       "      <td>2</td>\n",
       "      <td>Ripan Debnath</td>\n",
       "      <td>debnathripan5@gmail.com</td>\n",
       "      <td>Telangana</td>\n",
       "      <td>HYDERABAD</td>\n",
       "      <td>Monthly</td>\n",
       "      <td>25-30</td>\n",
       "      <td>Breakfast, Lunch</td>\n",
       "      <td>Non-Vegeterian</td>\n",
       "      <td>Vada, Dosa, Pongal, Parotta, Chole Bhature, Al...</td>\n",
       "      <td>3</td>\n",
       "      <td>Veg Cutlet, Veg Pakora, Veg lollipop, Seekh Ka...</td>\n",
       "      <td>4</td>\n",
       "      <td>Baby Corn, Chilli Mushroom, Paneer 65, Mutton ...</td>\n",
       "      <td>5</td>\n",
       "    </tr>\n",
       "    <tr>\n",
       "      <th>3</th>\n",
       "      <td>3</td>\n",
       "      <td>Nisha</td>\n",
       "      <td>nisha.prf@gmail.com</td>\n",
       "      <td>TamilNadu</td>\n",
       "      <td>Chennai</td>\n",
       "      <td>Quarterly</td>\n",
       "      <td>25-30</td>\n",
       "      <td>Breakfast, Lunch</td>\n",
       "      <td>Non-Vegeterian</td>\n",
       "      <td>Pongal</td>\n",
       "      <td>3</td>\n",
       "      <td>Paneer Tikka, Chicken Tandoori, Matar Pulao</td>\n",
       "      <td>4</td>\n",
       "      <td>Baby Corn, Chilli Mushroom, Paneer 65, Mutton ...</td>\n",
       "      <td>5</td>\n",
       "    </tr>\n",
       "    <tr>\n",
       "      <th>4</th>\n",
       "      <td>4</td>\n",
       "      <td>Demudu Babu M</td>\n",
       "      <td>NaN</td>\n",
       "      <td>Telangana</td>\n",
       "      <td>Hyderabad</td>\n",
       "      <td>Frequently</td>\n",
       "      <td>30-40</td>\n",
       "      <td>Breakfast, Lunch</td>\n",
       "      <td>Non-Vegeterian</td>\n",
       "      <td>Idly, Dosa, Pesarattu-Upma, Parotta, Chole Bha...</td>\n",
       "      <td>4</td>\n",
       "      <td>Veg lollipop, Paneer Tikka, Haryali Paneer Tik...</td>\n",
       "      <td>4</td>\n",
       "      <td>Baby Corn, Chilli Mushroom, Paneer 65, Mutton ...</td>\n",
       "      <td>5</td>\n",
       "    </tr>\n",
       "  </tbody>\n",
       "</table>\n",
       "</div>"
      ],
      "text/plain": [
       "   UserId           Name                       Email_id      State       City  \\\n",
       "0       0      Raj Sunil  rajsunil.kandregula@gmail.com  Telangana  Hyderabad   \n",
       "1       1         Pragya     03.pragya.mishra@gmail.com         UP      Noida   \n",
       "2       2  Ripan Debnath        debnathripan5@gmail.com  Telangana  HYDERABAD   \n",
       "3       3          Nisha            nisha.prf@gmail.com  TamilNadu    Chennai   \n",
       "4       4  Demudu Babu M                            NaN  Telangana  Hyderabad   \n",
       "\n",
       "  Frequency_of_Visit    Age    Preferred_Meal Preferred_Category_Veg_Non_Veg  \\\n",
       "0            Monthly  25-30  Breakfast, Lunch                 Non-Vegeterian   \n",
       "1          Fortnight  18-25  Breakfast, Lunch                 Non-Vegeterian   \n",
       "2            Monthly  25-30  Breakfast, Lunch                 Non-Vegeterian   \n",
       "3          Quarterly  25-30  Breakfast, Lunch                 Non-Vegeterian   \n",
       "4         Frequently  30-40  Breakfast, Lunch                 Non-Vegeterian   \n",
       "\n",
       "                                           Breakfast  Breakfast_rating  \\\n",
       "0                Mysore Bonda, Poha, Hotdog Sandwich                 4   \n",
       "1  Vada, Dosa, Chole Bhature, Paneer Paratha, Waf...                 4   \n",
       "2  Vada, Dosa, Pongal, Parotta, Chole Bhature, Al...                 3   \n",
       "3                                             Pongal                 3   \n",
       "4  Idly, Dosa, Pesarattu-Upma, Parotta, Chole Bha...                 4   \n",
       "\n",
       "                                               Lunch  Lunch_rating  \\\n",
       "0  Paneer Amritsari Tikka, Butter Garlic Prawns, ...             4   \n",
       "1  Hara Bara Kabab, Chicken Roast, Veg Manchurian...             4   \n",
       "2  Veg Cutlet, Veg Pakora, Veg lollipop, Seekh Ka...             4   \n",
       "3        Paneer Tikka, Chicken Tandoori, Matar Pulao             4   \n",
       "4  Veg lollipop, Paneer Tikka, Haryali Paneer Tik...             4   \n",
       "\n",
       "                                              Dinner  Dinner_rating  \n",
       "0  Baby Corn, Chilli Mushroom, Paneer 65, Mutton ...              5  \n",
       "1  Baby Corn, Chilli Mushroom, Paneer 65, Mutton ...              5  \n",
       "2  Baby Corn, Chilli Mushroom, Paneer 65, Mutton ...              5  \n",
       "3  Baby Corn, Chilli Mushroom, Paneer 65, Mutton ...              5  \n",
       "4  Baby Corn, Chilli Mushroom, Paneer 65, Mutton ...              5  "
      ]
     },
     "execution_count": 3,
     "metadata": {},
     "output_type": "execute_result"
    }
   ],
   "source": [
    "df.head()"
   ]
  },
  {
   "cell_type": "code",
   "execution_count": 4,
   "id": "7e8e0dd3",
   "metadata": {},
   "outputs": [],
   "source": [
    "df = df[['UserId', 'Preferred_Category_Veg_Non_Veg', 'Lunch']]"
   ]
  },
  {
   "cell_type": "code",
   "execution_count": 5,
   "id": "3d60951b",
   "metadata": {},
   "outputs": [
    {
     "name": "stdout",
     "output_type": "stream",
     "text": [
      "<class 'pandas.core.frame.DataFrame'>\n",
      "RangeIndex: 174 entries, 0 to 173\n",
      "Data columns (total 3 columns):\n",
      " #   Column                          Non-Null Count  Dtype \n",
      "---  ------                          --------------  ----- \n",
      " 0   UserId                          174 non-null    int64 \n",
      " 1   Preferred_Category_Veg_Non_Veg  174 non-null    object\n",
      " 2   Lunch                           174 non-null    object\n",
      "dtypes: int64(1), object(2)\n",
      "memory usage: 4.2+ KB\n"
     ]
    }
   ],
   "source": [
    "df.info()"
   ]
  },
  {
   "cell_type": "code",
   "execution_count": 5,
   "id": "868ca2d7",
   "metadata": {},
   "outputs": [],
   "source": [
    "df. to_csv(\"Lunch_food.csv\", encoding = \"utf-8\")"
   ]
  },
  {
   "cell_type": "code",
   "execution_count": 7,
   "id": "0f0b13b0",
   "metadata": {},
   "outputs": [
    {
     "data": {
      "text/plain": [
       "'C:\\\\Users\\\\debna'"
      ]
     },
     "execution_count": 7,
     "metadata": {},
     "output_type": "execute_result"
    }
   ],
   "source": [
    "import os\n",
    "os. getcwd()"
   ]
  },
  {
   "cell_type": "code",
   "execution_count": 6,
   "id": "c2aa09e0",
   "metadata": {},
   "outputs": [],
   "source": [
    "from sklearn.feature_extraction.text import CountVectorizer\n",
    "cv = CountVectorizer(max_features=5000,stop_words='english')"
   ]
  },
  {
   "cell_type": "code",
   "execution_count": 8,
   "id": "207c1334",
   "metadata": {},
   "outputs": [],
   "source": [
    "vector = cv.fit_transform(df['Lunch']).toarray()"
   ]
  },
  {
   "cell_type": "code",
   "execution_count": 9,
   "id": "9e74a841",
   "metadata": {},
   "outputs": [
    {
     "data": {
      "text/plain": [
       "(174, 273)"
      ]
     },
     "execution_count": 9,
     "metadata": {},
     "output_type": "execute_result"
    }
   ],
   "source": [
    "vector.shape"
   ]
  },
  {
   "cell_type": "code",
   "execution_count": 10,
   "id": "cff3698f",
   "metadata": {},
   "outputs": [],
   "source": [
    "from sklearn.metrics.pairwise import cosine_similarity"
   ]
  },
  {
   "cell_type": "code",
   "execution_count": 11,
   "id": "28c71df8",
   "metadata": {},
   "outputs": [],
   "source": [
    "similarity = cosine_similarity(vector)"
   ]
  },
  {
   "cell_type": "code",
   "execution_count": 12,
   "id": "f65f7b2f",
   "metadata": {},
   "outputs": [
    {
     "data": {
      "text/plain": [
       "array([[1.        , 0.13793103, 0.38255148, ..., 0.24313227, 0.11744404,\n",
       "        0.18569534],\n",
       "       [0.13793103, 1.        , 0.56396765, ..., 0.28365431, 0.11744404,\n",
       "        0.37139068],\n",
       "       [0.38255148, 0.56396765, 1.        , ..., 0.26880386, 0.1208898 ,\n",
       "        0.25485808],\n",
       "       ...,\n",
       "       [0.24313227, 0.28365431, 0.26880386, ..., 1.        , 0.34503278,\n",
       "        0.43643578],\n",
       "       [0.11744404, 0.11744404, 0.1208898 , ..., 0.34503278, 1.        ,\n",
       "        0.39528471],\n",
       "       [0.18569534, 0.37139068, 0.25485808, ..., 0.43643578, 0.39528471,\n",
       "        1.        ]])"
      ]
     },
     "execution_count": 12,
     "metadata": {},
     "output_type": "execute_result"
    }
   ],
   "source": [
    "similarity"
   ]
  },
  {
   "cell_type": "code",
   "execution_count": 13,
   "id": "a1780014",
   "metadata": {},
   "outputs": [
    {
     "data": {
      "text/plain": [
       "3"
      ]
     },
     "execution_count": 13,
     "metadata": {},
     "output_type": "execute_result"
    }
   ],
   "source": [
    "df[df['Lunch'] == 'Paneer Tikka, Chicken Tandoori, Matar Pulao'].index[0]"
   ]
  },
  {
   "cell_type": "code",
   "execution_count": 14,
   "id": "f821113e",
   "metadata": {},
   "outputs": [],
   "source": [
    "def recommend(food):\n",
    "    food_index = df[df['Lunch'] == food].index[0]\n",
    "    distances = similarity[food_index]\n",
    "    foods_list = sorted(list(enumerate(distances)),reverse=True,key = lambda x: x[1])[1:6]\n",
    "    for i in foods_list:\n",
    "        print(df.iloc[i[0]].Lunch)"
   ]
  },
  {
   "cell_type": "code",
   "execution_count": 15,
   "id": "af36c4a4",
   "metadata": {},
   "outputs": [
    {
     "name": "stdout",
     "output_type": "stream",
     "text": [
      "Paneer Tikka, Veg Platter, Crispy Corn, Chilli Paneer, Kadaai Paneer, Dal Tadka, Mix Veg Curry, Jeera Rice, Plain Naan, Butter Naan\n",
      "Veg Cutlet, Veg lollipop, Paneer Tikka, Paneer Achari, Paneer Multani Tikka, Paneer Amritsari Tikka, Veg Platter, Chilli Potatoes, Veg Spring Rolls, Veg Manchurian, Crispy Corn, Baby Corn, Chilli Paneer, Paneer  Tikka, Paneer 65, Paneer Butter Masala, Kadaai Paneer, Paneer Tikka Masala, Dal Tadka, Farm Fresh Pizza, Corn Cheese Pizza, Jeera Rice, Matar Pulao, Paneer Pulao, Veg Pulao, Veg biryani, Veg Dum Biryani, Butter Naan, Garlic Naan, Lacha Paratha, Ice-cream, Lassi\n",
      "Hara Bara Kabab, Paneer Tikka, Paneer Achari, Mushroom Masala, Paneer Butter Masala, Kadaai Paneer, Paneer Tikka Masala, Dal Tadka, Avial with Kerala Red Rice, Veg biryani, Chicken Dum Biryani, Gulab Jamun, Kesariya Kheer, Chocolate Brownie, Carrot Halwa, Chocolate Milkshake\n",
      "Veg Cutlet, Veg lollipop, Paneer Multani Tikka, Chilli Potatoes, Veg Spring Rolls, Chilli Paneer, Kadaai Paneer, Paneer Tikka Masala, Plain Dosa, Dal Tadka, Jeera Rice, Matar Pulao, Butter Naan, Garlic Naan, Carrot Halwa, Vanilla Milkshake\n",
      "Haryali Paneer Tikka, Veg Spring Rolls, Gobi Manchurian, Chilli Paneer, Paneer  Tikka, Paneer Tikka Masala, Dal Tadka, Jeera Rice\n"
     ]
    }
   ],
   "source": [
    "recommend('Haryali Paneer Tikka, Kadaai Paneer, Dal Tadka, Veg biryani, Butter Naan, Kesariya Kheer')"
   ]
  },
  {
   "cell_type": "code",
   "execution_count": 16,
   "id": "c36cb5c5",
   "metadata": {},
   "outputs": [],
   "source": [
    "import pickle"
   ]
  },
  {
   "cell_type": "code",
   "execution_count": 17,
   "id": "645f1b72",
   "metadata": {},
   "outputs": [],
   "source": [
    "pickle.dump(df,open('food_list1.pkl','wb'))\n",
    "pickle.dump(similarity,open('food_similarity1.pkl','wb'))"
   ]
  },
  {
   "cell_type": "code",
   "execution_count": null,
   "id": "2a7cc539",
   "metadata": {},
   "outputs": [],
   "source": []
  }
 ],
 "metadata": {
  "kernelspec": {
   "display_name": "Python 3 (ipykernel)",
   "language": "python",
   "name": "python3"
  },
  "language_info": {
   "codemirror_mode": {
    "name": "ipython",
    "version": 3
   },
   "file_extension": ".py",
   "mimetype": "text/x-python",
   "name": "python",
   "nbconvert_exporter": "python",
   "pygments_lexer": "ipython3",
   "version": "3.9.12"
  }
 },
 "nbformat": 4,
 "nbformat_minor": 5
}
